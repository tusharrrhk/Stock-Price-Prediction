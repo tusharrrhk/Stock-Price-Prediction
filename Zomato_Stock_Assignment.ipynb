{
  "nbformat": 4,
  "nbformat_minor": 0,
  "metadata": {
    "colab": {
      "name": "Zomato Stock Assignment.ipynb",
      "provenance": []
    },
    "kernelspec": {
      "name": "python3",
      "display_name": "Python 3"
    },
    "language_info": {
      "name": "python"
    }
  },
  "cells": [
    {
      "cell_type": "code",
      "execution_count": 122,
      "metadata": {
        "id": "XJqzlTbf3j91"
      },
      "outputs": [],
      "source": [
        "import pandas as pd\n",
        "import numpy as np\n",
        "import matplotlib.pyplot as plt\n",
        "import datetime"
      ]
    },
    {
      "cell_type": "code",
      "source": [
        "df = pd.read_csv('stocks.csv')"
      ],
      "metadata": {
        "id": "4OOeMplg6DSE"
      },
      "execution_count": 123,
      "outputs": []
    },
    {
      "cell_type": "code",
      "source": [
        "df"
      ],
      "metadata": {
        "colab": {
          "base_uri": "https://localhost:8080/",
          "height": 424
        },
        "id": "AqObA1UR6PwK",
        "outputId": "9c0f9fd6-1b60-4605-a449-76506f975767"
      },
      "execution_count": 124,
      "outputs": [
        {
          "output_type": "execute_result",
          "data": {
            "text/plain": [
              "           Date        Open        High         Low       Close   Adj Close  \\\n",
              "0    2021-07-23  116.000000  138.899994  115.000000  126.000000  126.000000   \n",
              "1    2021-07-26  126.349998  143.750000  125.300003  140.649994  140.649994   \n",
              "2    2021-07-27  141.699997  147.800003  127.750000  132.899994  132.899994   \n",
              "3    2021-07-28  131.000000  135.000000  123.550003  131.199997  131.199997   \n",
              "4    2021-07-29  134.949997  144.000000  132.199997  141.550003  141.550003   \n",
              "..          ...         ...         ...         ...         ...         ...   \n",
              "264  2022-08-16   62.650002   67.449997   62.500000   64.250000   64.250000   \n",
              "265  2022-08-17   64.800003   65.599998   61.799999   65.250000   65.250000   \n",
              "266  2022-08-18   65.599998   69.250000   65.000000   67.099998   67.099998   \n",
              "267  2022-08-19   67.400002   68.250000   60.150002   61.450001   61.450001   \n",
              "268  2022-08-22   61.000000   62.849998   59.250000   62.000000   62.000000   \n",
              "\n",
              "        Volume  \n",
              "0    694895290  \n",
              "1    249723854  \n",
              "2    240341900  \n",
              "3    159793731  \n",
              "4    117973089  \n",
              "..         ...  \n",
              "264  250686966  \n",
              "265  258066522  \n",
              "266  303566868  \n",
              "267  295737752  \n",
              "268  226773007  \n",
              "\n",
              "[269 rows x 7 columns]"
            ],
            "text/html": [
              "\n",
              "  <div id=\"df-ca066c00-abc9-4760-b5f4-2119a15c1edd\">\n",
              "    <div class=\"colab-df-container\">\n",
              "      <div>\n",
              "<style scoped>\n",
              "    .dataframe tbody tr th:only-of-type {\n",
              "        vertical-align: middle;\n",
              "    }\n",
              "\n",
              "    .dataframe tbody tr th {\n",
              "        vertical-align: top;\n",
              "    }\n",
              "\n",
              "    .dataframe thead th {\n",
              "        text-align: right;\n",
              "    }\n",
              "</style>\n",
              "<table border=\"1\" class=\"dataframe\">\n",
              "  <thead>\n",
              "    <tr style=\"text-align: right;\">\n",
              "      <th></th>\n",
              "      <th>Date</th>\n",
              "      <th>Open</th>\n",
              "      <th>High</th>\n",
              "      <th>Low</th>\n",
              "      <th>Close</th>\n",
              "      <th>Adj Close</th>\n",
              "      <th>Volume</th>\n",
              "    </tr>\n",
              "  </thead>\n",
              "  <tbody>\n",
              "    <tr>\n",
              "      <th>0</th>\n",
              "      <td>2021-07-23</td>\n",
              "      <td>116.000000</td>\n",
              "      <td>138.899994</td>\n",
              "      <td>115.000000</td>\n",
              "      <td>126.000000</td>\n",
              "      <td>126.000000</td>\n",
              "      <td>694895290</td>\n",
              "    </tr>\n",
              "    <tr>\n",
              "      <th>1</th>\n",
              "      <td>2021-07-26</td>\n",
              "      <td>126.349998</td>\n",
              "      <td>143.750000</td>\n",
              "      <td>125.300003</td>\n",
              "      <td>140.649994</td>\n",
              "      <td>140.649994</td>\n",
              "      <td>249723854</td>\n",
              "    </tr>\n",
              "    <tr>\n",
              "      <th>2</th>\n",
              "      <td>2021-07-27</td>\n",
              "      <td>141.699997</td>\n",
              "      <td>147.800003</td>\n",
              "      <td>127.750000</td>\n",
              "      <td>132.899994</td>\n",
              "      <td>132.899994</td>\n",
              "      <td>240341900</td>\n",
              "    </tr>\n",
              "    <tr>\n",
              "      <th>3</th>\n",
              "      <td>2021-07-28</td>\n",
              "      <td>131.000000</td>\n",
              "      <td>135.000000</td>\n",
              "      <td>123.550003</td>\n",
              "      <td>131.199997</td>\n",
              "      <td>131.199997</td>\n",
              "      <td>159793731</td>\n",
              "    </tr>\n",
              "    <tr>\n",
              "      <th>4</th>\n",
              "      <td>2021-07-29</td>\n",
              "      <td>134.949997</td>\n",
              "      <td>144.000000</td>\n",
              "      <td>132.199997</td>\n",
              "      <td>141.550003</td>\n",
              "      <td>141.550003</td>\n",
              "      <td>117973089</td>\n",
              "    </tr>\n",
              "    <tr>\n",
              "      <th>...</th>\n",
              "      <td>...</td>\n",
              "      <td>...</td>\n",
              "      <td>...</td>\n",
              "      <td>...</td>\n",
              "      <td>...</td>\n",
              "      <td>...</td>\n",
              "      <td>...</td>\n",
              "    </tr>\n",
              "    <tr>\n",
              "      <th>264</th>\n",
              "      <td>2022-08-16</td>\n",
              "      <td>62.650002</td>\n",
              "      <td>67.449997</td>\n",
              "      <td>62.500000</td>\n",
              "      <td>64.250000</td>\n",
              "      <td>64.250000</td>\n",
              "      <td>250686966</td>\n",
              "    </tr>\n",
              "    <tr>\n",
              "      <th>265</th>\n",
              "      <td>2022-08-17</td>\n",
              "      <td>64.800003</td>\n",
              "      <td>65.599998</td>\n",
              "      <td>61.799999</td>\n",
              "      <td>65.250000</td>\n",
              "      <td>65.250000</td>\n",
              "      <td>258066522</td>\n",
              "    </tr>\n",
              "    <tr>\n",
              "      <th>266</th>\n",
              "      <td>2022-08-18</td>\n",
              "      <td>65.599998</td>\n",
              "      <td>69.250000</td>\n",
              "      <td>65.000000</td>\n",
              "      <td>67.099998</td>\n",
              "      <td>67.099998</td>\n",
              "      <td>303566868</td>\n",
              "    </tr>\n",
              "    <tr>\n",
              "      <th>267</th>\n",
              "      <td>2022-08-19</td>\n",
              "      <td>67.400002</td>\n",
              "      <td>68.250000</td>\n",
              "      <td>60.150002</td>\n",
              "      <td>61.450001</td>\n",
              "      <td>61.450001</td>\n",
              "      <td>295737752</td>\n",
              "    </tr>\n",
              "    <tr>\n",
              "      <th>268</th>\n",
              "      <td>2022-08-22</td>\n",
              "      <td>61.000000</td>\n",
              "      <td>62.849998</td>\n",
              "      <td>59.250000</td>\n",
              "      <td>62.000000</td>\n",
              "      <td>62.000000</td>\n",
              "      <td>226773007</td>\n",
              "    </tr>\n",
              "  </tbody>\n",
              "</table>\n",
              "<p>269 rows × 7 columns</p>\n",
              "</div>\n",
              "      <button class=\"colab-df-convert\" onclick=\"convertToInteractive('df-ca066c00-abc9-4760-b5f4-2119a15c1edd')\"\n",
              "              title=\"Convert this dataframe to an interactive table.\"\n",
              "              style=\"display:none;\">\n",
              "        \n",
              "  <svg xmlns=\"http://www.w3.org/2000/svg\" height=\"24px\"viewBox=\"0 0 24 24\"\n",
              "       width=\"24px\">\n",
              "    <path d=\"M0 0h24v24H0V0z\" fill=\"none\"/>\n",
              "    <path d=\"M18.56 5.44l.94 2.06.94-2.06 2.06-.94-2.06-.94-.94-2.06-.94 2.06-2.06.94zm-11 1L8.5 8.5l.94-2.06 2.06-.94-2.06-.94L8.5 2.5l-.94 2.06-2.06.94zm10 10l.94 2.06.94-2.06 2.06-.94-2.06-.94-.94-2.06-.94 2.06-2.06.94z\"/><path d=\"M17.41 7.96l-1.37-1.37c-.4-.4-.92-.59-1.43-.59-.52 0-1.04.2-1.43.59L10.3 9.45l-7.72 7.72c-.78.78-.78 2.05 0 2.83L4 21.41c.39.39.9.59 1.41.59.51 0 1.02-.2 1.41-.59l7.78-7.78 2.81-2.81c.8-.78.8-2.07 0-2.86zM5.41 20L4 18.59l7.72-7.72 1.47 1.35L5.41 20z\"/>\n",
              "  </svg>\n",
              "      </button>\n",
              "      \n",
              "  <style>\n",
              "    .colab-df-container {\n",
              "      display:flex;\n",
              "      flex-wrap:wrap;\n",
              "      gap: 12px;\n",
              "    }\n",
              "\n",
              "    .colab-df-convert {\n",
              "      background-color: #E8F0FE;\n",
              "      border: none;\n",
              "      border-radius: 50%;\n",
              "      cursor: pointer;\n",
              "      display: none;\n",
              "      fill: #1967D2;\n",
              "      height: 32px;\n",
              "      padding: 0 0 0 0;\n",
              "      width: 32px;\n",
              "    }\n",
              "\n",
              "    .colab-df-convert:hover {\n",
              "      background-color: #E2EBFA;\n",
              "      box-shadow: 0px 1px 2px rgba(60, 64, 67, 0.3), 0px 1px 3px 1px rgba(60, 64, 67, 0.15);\n",
              "      fill: #174EA6;\n",
              "    }\n",
              "\n",
              "    [theme=dark] .colab-df-convert {\n",
              "      background-color: #3B4455;\n",
              "      fill: #D2E3FC;\n",
              "    }\n",
              "\n",
              "    [theme=dark] .colab-df-convert:hover {\n",
              "      background-color: #434B5C;\n",
              "      box-shadow: 0px 1px 3px 1px rgba(0, 0, 0, 0.15);\n",
              "      filter: drop-shadow(0px 1px 2px rgba(0, 0, 0, 0.3));\n",
              "      fill: #FFFFFF;\n",
              "    }\n",
              "  </style>\n",
              "\n",
              "      <script>\n",
              "        const buttonEl =\n",
              "          document.querySelector('#df-ca066c00-abc9-4760-b5f4-2119a15c1edd button.colab-df-convert');\n",
              "        buttonEl.style.display =\n",
              "          google.colab.kernel.accessAllowed ? 'block' : 'none';\n",
              "\n",
              "        async function convertToInteractive(key) {\n",
              "          const element = document.querySelector('#df-ca066c00-abc9-4760-b5f4-2119a15c1edd');\n",
              "          const dataTable =\n",
              "            await google.colab.kernel.invokeFunction('convertToInteractive',\n",
              "                                                     [key], {});\n",
              "          if (!dataTable) return;\n",
              "\n",
              "          const docLinkHtml = 'Like what you see? Visit the ' +\n",
              "            '<a target=\"_blank\" href=https://colab.research.google.com/notebooks/data_table.ipynb>data table notebook</a>'\n",
              "            + ' to learn more about interactive tables.';\n",
              "          element.innerHTML = '';\n",
              "          dataTable['output_type'] = 'display_data';\n",
              "          await google.colab.output.renderOutput(dataTable, element);\n",
              "          const docLink = document.createElement('div');\n",
              "          docLink.innerHTML = docLinkHtml;\n",
              "          element.appendChild(docLink);\n",
              "        }\n",
              "      </script>\n",
              "    </div>\n",
              "  </div>\n",
              "  "
            ]
          },
          "metadata": {},
          "execution_count": 124
        }
      ]
    },
    {
      "cell_type": "code",
      "source": [
        "df = df[['Date','Close']]"
      ],
      "metadata": {
        "id": "qFaA19hO6S-C"
      },
      "execution_count": 125,
      "outputs": []
    },
    {
      "cell_type": "code",
      "source": [
        "df"
      ],
      "metadata": {
        "colab": {
          "base_uri": "https://localhost:8080/",
          "height": 424
        },
        "id": "0awDBgoj61jK",
        "outputId": "bc5797ae-6837-481d-dd63-0ecf46f509ef"
      },
      "execution_count": 126,
      "outputs": [
        {
          "output_type": "execute_result",
          "data": {
            "text/plain": [
              "           Date       Close\n",
              "0    2021-07-23  126.000000\n",
              "1    2021-07-26  140.649994\n",
              "2    2021-07-27  132.899994\n",
              "3    2021-07-28  131.199997\n",
              "4    2021-07-29  141.550003\n",
              "..          ...         ...\n",
              "264  2022-08-16   64.250000\n",
              "265  2022-08-17   65.250000\n",
              "266  2022-08-18   67.099998\n",
              "267  2022-08-19   61.450001\n",
              "268  2022-08-22   62.000000\n",
              "\n",
              "[269 rows x 2 columns]"
            ],
            "text/html": [
              "\n",
              "  <div id=\"df-3ea90ed4-86a3-4a9f-8618-993e39e44259\">\n",
              "    <div class=\"colab-df-container\">\n",
              "      <div>\n",
              "<style scoped>\n",
              "    .dataframe tbody tr th:only-of-type {\n",
              "        vertical-align: middle;\n",
              "    }\n",
              "\n",
              "    .dataframe tbody tr th {\n",
              "        vertical-align: top;\n",
              "    }\n",
              "\n",
              "    .dataframe thead th {\n",
              "        text-align: right;\n",
              "    }\n",
              "</style>\n",
              "<table border=\"1\" class=\"dataframe\">\n",
              "  <thead>\n",
              "    <tr style=\"text-align: right;\">\n",
              "      <th></th>\n",
              "      <th>Date</th>\n",
              "      <th>Close</th>\n",
              "    </tr>\n",
              "  </thead>\n",
              "  <tbody>\n",
              "    <tr>\n",
              "      <th>0</th>\n",
              "      <td>2021-07-23</td>\n",
              "      <td>126.000000</td>\n",
              "    </tr>\n",
              "    <tr>\n",
              "      <th>1</th>\n",
              "      <td>2021-07-26</td>\n",
              "      <td>140.649994</td>\n",
              "    </tr>\n",
              "    <tr>\n",
              "      <th>2</th>\n",
              "      <td>2021-07-27</td>\n",
              "      <td>132.899994</td>\n",
              "    </tr>\n",
              "    <tr>\n",
              "      <th>3</th>\n",
              "      <td>2021-07-28</td>\n",
              "      <td>131.199997</td>\n",
              "    </tr>\n",
              "    <tr>\n",
              "      <th>4</th>\n",
              "      <td>2021-07-29</td>\n",
              "      <td>141.550003</td>\n",
              "    </tr>\n",
              "    <tr>\n",
              "      <th>...</th>\n",
              "      <td>...</td>\n",
              "      <td>...</td>\n",
              "    </tr>\n",
              "    <tr>\n",
              "      <th>264</th>\n",
              "      <td>2022-08-16</td>\n",
              "      <td>64.250000</td>\n",
              "    </tr>\n",
              "    <tr>\n",
              "      <th>265</th>\n",
              "      <td>2022-08-17</td>\n",
              "      <td>65.250000</td>\n",
              "    </tr>\n",
              "    <tr>\n",
              "      <th>266</th>\n",
              "      <td>2022-08-18</td>\n",
              "      <td>67.099998</td>\n",
              "    </tr>\n",
              "    <tr>\n",
              "      <th>267</th>\n",
              "      <td>2022-08-19</td>\n",
              "      <td>61.450001</td>\n",
              "    </tr>\n",
              "    <tr>\n",
              "      <th>268</th>\n",
              "      <td>2022-08-22</td>\n",
              "      <td>62.000000</td>\n",
              "    </tr>\n",
              "  </tbody>\n",
              "</table>\n",
              "<p>269 rows × 2 columns</p>\n",
              "</div>\n",
              "      <button class=\"colab-df-convert\" onclick=\"convertToInteractive('df-3ea90ed4-86a3-4a9f-8618-993e39e44259')\"\n",
              "              title=\"Convert this dataframe to an interactive table.\"\n",
              "              style=\"display:none;\">\n",
              "        \n",
              "  <svg xmlns=\"http://www.w3.org/2000/svg\" height=\"24px\"viewBox=\"0 0 24 24\"\n",
              "       width=\"24px\">\n",
              "    <path d=\"M0 0h24v24H0V0z\" fill=\"none\"/>\n",
              "    <path d=\"M18.56 5.44l.94 2.06.94-2.06 2.06-.94-2.06-.94-.94-2.06-.94 2.06-2.06.94zm-11 1L8.5 8.5l.94-2.06 2.06-.94-2.06-.94L8.5 2.5l-.94 2.06-2.06.94zm10 10l.94 2.06.94-2.06 2.06-.94-2.06-.94-.94-2.06-.94 2.06-2.06.94z\"/><path d=\"M17.41 7.96l-1.37-1.37c-.4-.4-.92-.59-1.43-.59-.52 0-1.04.2-1.43.59L10.3 9.45l-7.72 7.72c-.78.78-.78 2.05 0 2.83L4 21.41c.39.39.9.59 1.41.59.51 0 1.02-.2 1.41-.59l7.78-7.78 2.81-2.81c.8-.78.8-2.07 0-2.86zM5.41 20L4 18.59l7.72-7.72 1.47 1.35L5.41 20z\"/>\n",
              "  </svg>\n",
              "      </button>\n",
              "      \n",
              "  <style>\n",
              "    .colab-df-container {\n",
              "      display:flex;\n",
              "      flex-wrap:wrap;\n",
              "      gap: 12px;\n",
              "    }\n",
              "\n",
              "    .colab-df-convert {\n",
              "      background-color: #E8F0FE;\n",
              "      border: none;\n",
              "      border-radius: 50%;\n",
              "      cursor: pointer;\n",
              "      display: none;\n",
              "      fill: #1967D2;\n",
              "      height: 32px;\n",
              "      padding: 0 0 0 0;\n",
              "      width: 32px;\n",
              "    }\n",
              "\n",
              "    .colab-df-convert:hover {\n",
              "      background-color: #E2EBFA;\n",
              "      box-shadow: 0px 1px 2px rgba(60, 64, 67, 0.3), 0px 1px 3px 1px rgba(60, 64, 67, 0.15);\n",
              "      fill: #174EA6;\n",
              "    }\n",
              "\n",
              "    [theme=dark] .colab-df-convert {\n",
              "      background-color: #3B4455;\n",
              "      fill: #D2E3FC;\n",
              "    }\n",
              "\n",
              "    [theme=dark] .colab-df-convert:hover {\n",
              "      background-color: #434B5C;\n",
              "      box-shadow: 0px 1px 3px 1px rgba(0, 0, 0, 0.15);\n",
              "      filter: drop-shadow(0px 1px 2px rgba(0, 0, 0, 0.3));\n",
              "      fill: #FFFFFF;\n",
              "    }\n",
              "  </style>\n",
              "\n",
              "      <script>\n",
              "        const buttonEl =\n",
              "          document.querySelector('#df-3ea90ed4-86a3-4a9f-8618-993e39e44259 button.colab-df-convert');\n",
              "        buttonEl.style.display =\n",
              "          google.colab.kernel.accessAllowed ? 'block' : 'none';\n",
              "\n",
              "        async function convertToInteractive(key) {\n",
              "          const element = document.querySelector('#df-3ea90ed4-86a3-4a9f-8618-993e39e44259');\n",
              "          const dataTable =\n",
              "            await google.colab.kernel.invokeFunction('convertToInteractive',\n",
              "                                                     [key], {});\n",
              "          if (!dataTable) return;\n",
              "\n",
              "          const docLinkHtml = 'Like what you see? Visit the ' +\n",
              "            '<a target=\"_blank\" href=https://colab.research.google.com/notebooks/data_table.ipynb>data table notebook</a>'\n",
              "            + ' to learn more about interactive tables.';\n",
              "          element.innerHTML = '';\n",
              "          dataTable['output_type'] = 'display_data';\n",
              "          await google.colab.output.renderOutput(dataTable, element);\n",
              "          const docLink = document.createElement('div');\n",
              "          docLink.innerHTML = docLinkHtml;\n",
              "          element.appendChild(docLink);\n",
              "        }\n",
              "      </script>\n",
              "    </div>\n",
              "  </div>\n",
              "  "
            ]
          },
          "metadata": {},
          "execution_count": 126
        }
      ]
    },
    {
      "cell_type": "code",
      "source": [
        "def time(s):\n",
        "  split = s.split('-')\n",
        "  year,month,day = int(split[0]),int(split[1]),int(split[2])\n",
        "  return datetime.datetime(year=year,month=month,day=day)\n",
        "\n",
        "datetime_obj = time('2021-07-23')"
      ],
      "metadata": {
        "id": "5lLqZAwA62Fh"
      },
      "execution_count": 127,
      "outputs": []
    },
    {
      "cell_type": "code",
      "source": [
        "datetime_obj"
      ],
      "metadata": {
        "colab": {
          "base_uri": "https://localhost:8080/"
        },
        "id": "NOgpxkSe71aq",
        "outputId": "3811987a-48c2-4a84-ed01-1dbef7bd85b0"
      },
      "execution_count": 128,
      "outputs": [
        {
          "output_type": "execute_result",
          "data": {
            "text/plain": [
              "datetime.datetime(2021, 7, 23, 0, 0)"
            ]
          },
          "metadata": {},
          "execution_count": 128
        }
      ]
    },
    {
      "cell_type": "code",
      "source": [
        "df['Date'] = df['Date'].apply(time)"
      ],
      "metadata": {
        "colab": {
          "base_uri": "https://localhost:8080/"
        },
        "id": "nyD7EBQD8CSw",
        "outputId": "5e0eb3f0-3c5c-4b6c-e20c-772c0ff57a0b"
      },
      "execution_count": 129,
      "outputs": [
        {
          "output_type": "stream",
          "name": "stderr",
          "text": [
            "/usr/local/lib/python3.7/dist-packages/ipykernel_launcher.py:1: SettingWithCopyWarning: \n",
            "A value is trying to be set on a copy of a slice from a DataFrame.\n",
            "Try using .loc[row_indexer,col_indexer] = value instead\n",
            "\n",
            "See the caveats in the documentation: https://pandas.pydata.org/pandas-docs/stable/user_guide/indexing.html#returning-a-view-versus-a-copy\n",
            "  \"\"\"Entry point for launching an IPython kernel.\n"
          ]
        }
      ]
    },
    {
      "cell_type": "code",
      "source": [
        "df['Date']"
      ],
      "metadata": {
        "colab": {
          "base_uri": "https://localhost:8080/"
        },
        "id": "E_VKPrAr8ad5",
        "outputId": "83ce6ca6-9bc4-4e69-ee84-107c90c0d35e"
      },
      "execution_count": 130,
      "outputs": [
        {
          "output_type": "execute_result",
          "data": {
            "text/plain": [
              "0     2021-07-23\n",
              "1     2021-07-26\n",
              "2     2021-07-27\n",
              "3     2021-07-28\n",
              "4     2021-07-29\n",
              "         ...    \n",
              "264   2022-08-16\n",
              "265   2022-08-17\n",
              "266   2022-08-18\n",
              "267   2022-08-19\n",
              "268   2022-08-22\n",
              "Name: Date, Length: 269, dtype: datetime64[ns]"
            ]
          },
          "metadata": {},
          "execution_count": 130
        }
      ]
    },
    {
      "cell_type": "code",
      "source": [
        "df.index = df.pop('Date')"
      ],
      "metadata": {
        "id": "2GENvEk58b9Z"
      },
      "execution_count": 131,
      "outputs": []
    },
    {
      "cell_type": "code",
      "source": [
        "df"
      ],
      "metadata": {
        "colab": {
          "base_uri": "https://localhost:8080/",
          "height": 455
        },
        "id": "sp16adM08nJf",
        "outputId": "03c0111d-f5ed-4036-992e-60e96445d2b2"
      },
      "execution_count": 132,
      "outputs": [
        {
          "output_type": "execute_result",
          "data": {
            "text/plain": [
              "                 Close\n",
              "Date                  \n",
              "2021-07-23  126.000000\n",
              "2021-07-26  140.649994\n",
              "2021-07-27  132.899994\n",
              "2021-07-28  131.199997\n",
              "2021-07-29  141.550003\n",
              "...                ...\n",
              "2022-08-16   64.250000\n",
              "2022-08-17   65.250000\n",
              "2022-08-18   67.099998\n",
              "2022-08-19   61.450001\n",
              "2022-08-22   62.000000\n",
              "\n",
              "[269 rows x 1 columns]"
            ],
            "text/html": [
              "\n",
              "  <div id=\"df-799e86aa-61a7-45cb-82a1-254e6d868099\">\n",
              "    <div class=\"colab-df-container\">\n",
              "      <div>\n",
              "<style scoped>\n",
              "    .dataframe tbody tr th:only-of-type {\n",
              "        vertical-align: middle;\n",
              "    }\n",
              "\n",
              "    .dataframe tbody tr th {\n",
              "        vertical-align: top;\n",
              "    }\n",
              "\n",
              "    .dataframe thead th {\n",
              "        text-align: right;\n",
              "    }\n",
              "</style>\n",
              "<table border=\"1\" class=\"dataframe\">\n",
              "  <thead>\n",
              "    <tr style=\"text-align: right;\">\n",
              "      <th></th>\n",
              "      <th>Close</th>\n",
              "    </tr>\n",
              "    <tr>\n",
              "      <th>Date</th>\n",
              "      <th></th>\n",
              "    </tr>\n",
              "  </thead>\n",
              "  <tbody>\n",
              "    <tr>\n",
              "      <th>2021-07-23</th>\n",
              "      <td>126.000000</td>\n",
              "    </tr>\n",
              "    <tr>\n",
              "      <th>2021-07-26</th>\n",
              "      <td>140.649994</td>\n",
              "    </tr>\n",
              "    <tr>\n",
              "      <th>2021-07-27</th>\n",
              "      <td>132.899994</td>\n",
              "    </tr>\n",
              "    <tr>\n",
              "      <th>2021-07-28</th>\n",
              "      <td>131.199997</td>\n",
              "    </tr>\n",
              "    <tr>\n",
              "      <th>2021-07-29</th>\n",
              "      <td>141.550003</td>\n",
              "    </tr>\n",
              "    <tr>\n",
              "      <th>...</th>\n",
              "      <td>...</td>\n",
              "    </tr>\n",
              "    <tr>\n",
              "      <th>2022-08-16</th>\n",
              "      <td>64.250000</td>\n",
              "    </tr>\n",
              "    <tr>\n",
              "      <th>2022-08-17</th>\n",
              "      <td>65.250000</td>\n",
              "    </tr>\n",
              "    <tr>\n",
              "      <th>2022-08-18</th>\n",
              "      <td>67.099998</td>\n",
              "    </tr>\n",
              "    <tr>\n",
              "      <th>2022-08-19</th>\n",
              "      <td>61.450001</td>\n",
              "    </tr>\n",
              "    <tr>\n",
              "      <th>2022-08-22</th>\n",
              "      <td>62.000000</td>\n",
              "    </tr>\n",
              "  </tbody>\n",
              "</table>\n",
              "<p>269 rows × 1 columns</p>\n",
              "</div>\n",
              "      <button class=\"colab-df-convert\" onclick=\"convertToInteractive('df-799e86aa-61a7-45cb-82a1-254e6d868099')\"\n",
              "              title=\"Convert this dataframe to an interactive table.\"\n",
              "              style=\"display:none;\">\n",
              "        \n",
              "  <svg xmlns=\"http://www.w3.org/2000/svg\" height=\"24px\"viewBox=\"0 0 24 24\"\n",
              "       width=\"24px\">\n",
              "    <path d=\"M0 0h24v24H0V0z\" fill=\"none\"/>\n",
              "    <path d=\"M18.56 5.44l.94 2.06.94-2.06 2.06-.94-2.06-.94-.94-2.06-.94 2.06-2.06.94zm-11 1L8.5 8.5l.94-2.06 2.06-.94-2.06-.94L8.5 2.5l-.94 2.06-2.06.94zm10 10l.94 2.06.94-2.06 2.06-.94-2.06-.94-.94-2.06-.94 2.06-2.06.94z\"/><path d=\"M17.41 7.96l-1.37-1.37c-.4-.4-.92-.59-1.43-.59-.52 0-1.04.2-1.43.59L10.3 9.45l-7.72 7.72c-.78.78-.78 2.05 0 2.83L4 21.41c.39.39.9.59 1.41.59.51 0 1.02-.2 1.41-.59l7.78-7.78 2.81-2.81c.8-.78.8-2.07 0-2.86zM5.41 20L4 18.59l7.72-7.72 1.47 1.35L5.41 20z\"/>\n",
              "  </svg>\n",
              "      </button>\n",
              "      \n",
              "  <style>\n",
              "    .colab-df-container {\n",
              "      display:flex;\n",
              "      flex-wrap:wrap;\n",
              "      gap: 12px;\n",
              "    }\n",
              "\n",
              "    .colab-df-convert {\n",
              "      background-color: #E8F0FE;\n",
              "      border: none;\n",
              "      border-radius: 50%;\n",
              "      cursor: pointer;\n",
              "      display: none;\n",
              "      fill: #1967D2;\n",
              "      height: 32px;\n",
              "      padding: 0 0 0 0;\n",
              "      width: 32px;\n",
              "    }\n",
              "\n",
              "    .colab-df-convert:hover {\n",
              "      background-color: #E2EBFA;\n",
              "      box-shadow: 0px 1px 2px rgba(60, 64, 67, 0.3), 0px 1px 3px 1px rgba(60, 64, 67, 0.15);\n",
              "      fill: #174EA6;\n",
              "    }\n",
              "\n",
              "    [theme=dark] .colab-df-convert {\n",
              "      background-color: #3B4455;\n",
              "      fill: #D2E3FC;\n",
              "    }\n",
              "\n",
              "    [theme=dark] .colab-df-convert:hover {\n",
              "      background-color: #434B5C;\n",
              "      box-shadow: 0px 1px 3px 1px rgba(0, 0, 0, 0.15);\n",
              "      filter: drop-shadow(0px 1px 2px rgba(0, 0, 0, 0.3));\n",
              "      fill: #FFFFFF;\n",
              "    }\n",
              "  </style>\n",
              "\n",
              "      <script>\n",
              "        const buttonEl =\n",
              "          document.querySelector('#df-799e86aa-61a7-45cb-82a1-254e6d868099 button.colab-df-convert');\n",
              "        buttonEl.style.display =\n",
              "          google.colab.kernel.accessAllowed ? 'block' : 'none';\n",
              "\n",
              "        async function convertToInteractive(key) {\n",
              "          const element = document.querySelector('#df-799e86aa-61a7-45cb-82a1-254e6d868099');\n",
              "          const dataTable =\n",
              "            await google.colab.kernel.invokeFunction('convertToInteractive',\n",
              "                                                     [key], {});\n",
              "          if (!dataTable) return;\n",
              "\n",
              "          const docLinkHtml = 'Like what you see? Visit the ' +\n",
              "            '<a target=\"_blank\" href=https://colab.research.google.com/notebooks/data_table.ipynb>data table notebook</a>'\n",
              "            + ' to learn more about interactive tables.';\n",
              "          element.innerHTML = '';\n",
              "          dataTable['output_type'] = 'display_data';\n",
              "          await google.colab.output.renderOutput(dataTable, element);\n",
              "          const docLink = document.createElement('div');\n",
              "          docLink.innerHTML = docLinkHtml;\n",
              "          element.appendChild(docLink);\n",
              "        }\n",
              "      </script>\n",
              "    </div>\n",
              "  </div>\n",
              "  "
            ]
          },
          "metadata": {},
          "execution_count": 132
        }
      ]
    },
    {
      "cell_type": "code",
      "source": [
        "plt.plot(df.index,df['Close'])"
      ],
      "metadata": {
        "colab": {
          "base_uri": "https://localhost:8080/",
          "height": 282
        },
        "id": "7oHhcdQA8nyA",
        "outputId": "8dafc5e9-5488-42d6-b6dd-4d856b99b391"
      },
      "execution_count": 133,
      "outputs": [
        {
          "output_type": "execute_result",
          "data": {
            "text/plain": [
              "[<matplotlib.lines.Line2D at 0x7fb7106e7190>]"
            ]
          },
          "metadata": {},
          "execution_count": 133
        },
        {
          "output_type": "display_data",
          "data": {
            "text/plain": [
              "<Figure size 432x288 with 1 Axes>"
            ],
            "image/png": "[encoded data removed]"
          },
          "metadata": {
            "needs_background": "light"
          }
        }
      ]
    },
    {
      "cell_type": "code",
      "source": [
        "def window(dataframe, first_date_str, last_date_str, n=3):\n",
        "  first_date = time(first_date_str)\n",
        "  last_date  = time(last_date_str)\n",
        "\n",
        "  target_date = first_date\n",
        "  \n",
        "  dates = []\n",
        "  X, Y = [], []\n",
        "\n",
        "  last_time = False\n",
        "  while True:\n",
        "    df_subset = dataframe.loc[:target_date].tail(n+1)\n",
        "    \n",
        "    if len(df_subset) != n+1:\n",
        "      print(f'Error: Window of size {n} is too large for date {target_date}')\n",
        "      return\n",
        "\n",
        "    values = df_subset['Close'].to_numpy()\n",
        "    x, y = values[:-1], values[-1]\n",
        "\n",
        "    dates.append(target_date)\n",
        "    X.append(x)\n",
        "    Y.append(y)\n",
        "\n",
        "    next_week = dataframe.loc[target_date:target_date+datetime.timedelta(days=7)]\n",
        "    next_datetime_str = str(next_week.head(2).tail(1).index.values[0])\n",
        "    next_date_str = next_datetime_str.split('T')[0]\n",
        "    year_month_day = next_date_str.split('-')\n",
        "    year, month, day = year_month_day\n",
        "    next_date = datetime.datetime(day=int(day), month=int(month), year=int(year))\n",
        "    \n",
        "    if last_time:\n",
        "      break\n",
        "    \n",
        "    target_date = next_date\n",
        "\n",
        "    if target_date == last_date:\n",
        "      last_time = True\n",
        "    \n",
        "  ret_df = pd.DataFrame({})\n",
        "  ret_df['Target Date'] = dates\n",
        "  \n",
        "  X = np.array(X)\n",
        "  for i in range(0, n):\n",
        "    X[:, i]\n",
        "    ret_df[f'Target-{n-i}'] = X[:, i]\n",
        "  \n",
        "  ret_df['Target'] = Y\n",
        "\n",
        "  return ret_df\n",
        "\n",
        "# Start day second time around: '2021-07-23'\n",
        "windowed_df = window(df, \n",
        "                                '2021-08-23', \n",
        "                                '2022-08-22', \n",
        "                                n=3)\n",
        "windowed_df"
      ],
      "metadata": {
        "colab": {
          "base_uri": "https://localhost:8080/",
          "height": 424
        },
        "id": "fsU9d3u0HdYj",
        "outputId": "05a9c9ae-ffaf-4754-ed6e-c75654fd010d"
      },
      "execution_count": 134,
      "outputs": [
        {
          "output_type": "execute_result",
          "data": {
            "text/plain": [
              "    Target Date    Target-3    Target-2    Target-1      Target\n",
              "0    2021-08-23  132.500000  134.949997  139.300003  127.250000\n",
              "1    2021-08-24  134.949997  139.300003  127.250000  125.000000\n",
              "2    2021-08-25  139.300003  127.250000  125.000000  124.250000\n",
              "3    2021-08-26  127.250000  125.000000  124.250000  125.849998\n",
              "4    2021-08-27  125.000000  124.250000  125.849998  124.699997\n",
              "..          ...         ...         ...         ...         ...\n",
              "244  2022-08-16   55.950001   57.900002   61.750000   64.250000\n",
              "245  2022-08-17   57.900002   61.750000   64.250000   65.250000\n",
              "246  2022-08-18   61.750000   64.250000   65.250000   67.099998\n",
              "247  2022-08-19   64.250000   65.250000   67.099998   61.450001\n",
              "248  2022-08-22   65.250000   67.099998   61.450001   62.000000\n",
              "\n",
              "[249 rows x 5 columns]"
            ],
            "text/html": [
              "\n",
              "  <div id=\"df-3173fd03-d4ef-4496-aec1-6064963efd62\">\n",
              "    <div class=\"colab-df-container\">\n",
              "      <div>\n",
              "<style scoped>\n",
              "    .dataframe tbody tr th:only-of-type {\n",
              "        vertical-align: middle;\n",
              "    }\n",
              "\n",
              "    .dataframe tbody tr th {\n",
              "        vertical-align: top;\n",
              "    }\n",
              "\n",
              "    .dataframe thead th {\n",
              "        text-align: right;\n",
              "    }\n",
              "</style>\n",
              "<table border=\"1\" class=\"dataframe\">\n",
              "  <thead>\n",
              "    <tr style=\"text-align: right;\">\n",
              "      <th></th>\n",
              "      <th>Target Date</th>\n",
              "      <th>Target-3</th>\n",
              "      <th>Target-2</th>\n",
              "      <th>Target-1</th>\n",
              "      <th>Target</th>\n",
              "    </tr>\n",
              "  </thead>\n",
              "  <tbody>\n",
              "    <tr>\n",
              "      <th>0</th>\n",
              "      <td>2021-08-23</td>\n",
              "      <td>132.500000</td>\n",
              "      <td>134.949997</td>\n",
              "      <td>139.300003</td>\n",
              "      <td>127.250000</td>\n",
              "    </tr>\n",
              "    <tr>\n",
              "      <th>1</th>\n",
              "      <td>2021-08-24</td>\n",
              "      <td>134.949997</td>\n",
              "      <td>139.300003</td>\n",
              "      <td>127.250000</td>\n",
              "      <td>125.000000</td>\n",
              "    </tr>\n",
              "    <tr>\n",
              "      <th>2</th>\n",
              "      <td>2021-08-25</td>\n",
              "      <td>139.300003</td>\n",
              "      <td>127.250000</td>\n",
              "      <td>125.000000</td>\n",
              "      <td>124.250000</td>\n",
              "    </tr>\n",
              "    <tr>\n",
              "      <th>3</th>\n",
              "      <td>2021-08-26</td>\n",
              "      <td>127.250000</td>\n",
              "      <td>125.000000</td>\n",
              "      <td>124.250000</td>\n",
              "      <td>125.849998</td>\n",
              "    </tr>\n",
              "    <tr>\n",
              "      <th>4</th>\n",
              "      <td>2021-08-27</td>\n",
              "      <td>125.000000</td>\n",
              "      <td>124.250000</td>\n",
              "      <td>125.849998</td>\n",
              "      <td>124.699997</td>\n",
              "    </tr>\n",
              "    <tr>\n",
              "      <th>...</th>\n",
              "      <td>...</td>\n",
              "      <td>...</td>\n",
              "      <td>...</td>\n",
              "      <td>...</td>\n",
              "      <td>...</td>\n",
              "    </tr>\n",
              "    <tr>\n",
              "      <th>244</th>\n",
              "      <td>2022-08-16</td>\n",
              "      <td>55.950001</td>\n",
              "      <td>57.900002</td>\n",
              "      <td>61.750000</td>\n",
              "      <td>64.250000</td>\n",
              "    </tr>\n",
              "    <tr>\n",
              "      <th>245</th>\n",
              "      <td>2022-08-17</td>\n",
              "      <td>57.900002</td>\n",
              "      <td>61.750000</td>\n",
              "      <td>64.250000</td>\n",
              "      <td>65.250000</td>\n",
              "    </tr>\n",
              "    <tr>\n",
              "      <th>246</th>\n",
              "      <td>2022-08-18</td>\n",
              "      <td>61.750000</td>\n",
              "      <td>64.250000</td>\n",
              "      <td>65.250000</td>\n",
              "      <td>67.099998</td>\n",
              "    </tr>\n",
              "    <tr>\n",
              "      <th>247</th>\n",
              "      <td>2022-08-19</td>\n",
              "      <td>64.250000</td>\n",
              "      <td>65.250000</td>\n",
              "      <td>67.099998</td>\n",
              "      <td>61.450001</td>\n",
              "    </tr>\n",
              "    <tr>\n",
              "      <th>248</th>\n",
              "      <td>2022-08-22</td>\n",
              "      <td>65.250000</td>\n",
              "      <td>67.099998</td>\n",
              "      <td>61.450001</td>\n",
              "      <td>62.000000</td>\n",
              "    </tr>\n",
              "  </tbody>\n",
              "</table>\n",
              "<p>249 rows × 5 columns</p>\n",
              "</div>\n",
              "      <button class=\"colab-df-convert\" onclick=\"convertToInteractive('df-3173fd03-d4ef-4496-aec1-6064963efd62')\"\n",
              "              title=\"Convert this dataframe to an interactive table.\"\n",
              "              style=\"display:none;\">\n",
              "        \n",
              "  <svg xmlns=\"http://www.w3.org/2000/svg\" height=\"24px\"viewBox=\"0 0 24 24\"\n",
              "       width=\"24px\">\n",
              "    <path d=\"M0 0h24v24H0V0z\" fill=\"none\"/>\n",
              "    <path d=\"M18.56 5.44l.94 2.06.94-2.06 2.06-.94-2.06-.94-.94-2.06-.94 2.06-2.06.94zm-11 1L8.5 8.5l.94-2.06 2.06-.94-2.06-.94L8.5 2.5l-.94 2.06-2.06.94zm10 10l.94 2.06.94-2.06 2.06-.94-2.06-.94-.94-2.06-.94 2.06-2.06.94z\"/><path d=\"M17.41 7.96l-1.37-1.37c-.4-.4-.92-.59-1.43-.59-.52 0-1.04.2-1.43.59L10.3 9.45l-7.72 7.72c-.78.78-.78 2.05 0 2.83L4 21.41c.39.39.9.59 1.41.59.51 0 1.02-.2 1.41-.59l7.78-7.78 2.81-2.81c.8-.78.8-2.07 0-2.86zM5.41 20L4 18.59l7.72-7.72 1.47 1.35L5.41 20z\"/>\n",
              "  </svg>\n",
              "      </button>\n",
              "      \n",
              "  <style>\n",
              "    .colab-df-container {\n",
              "      display:flex;\n",
              "      flex-wrap:wrap;\n",
              "      gap: 12px;\n",
              "    }\n",
              "\n",
              "    .colab-df-convert {\n",
              "      background-color: #E8F0FE;\n",
              "      border: none;\n",
              "      border-radius: 50%;\n",
              "      cursor: pointer;\n",
              "      display: none;\n",
              "      fill: #1967D2;\n",
              "      height: 32px;\n",
              "      padding: 0 0 0 0;\n",
              "      width: 32px;\n",
              "    }\n",
              "\n",
              "    .colab-df-convert:hover {\n",
              "      background-color: #E2EBFA;\n",
              "      box-shadow: 0px 1px 2px rgba(60, 64, 67, 0.3), 0px 1px 3px 1px rgba(60, 64, 67, 0.15);\n",
              "      fill: #174EA6;\n",
              "    }\n",
              "\n",
              "    [theme=dark] .colab-df-convert {\n",
              "      background-color: #3B4455;\n",
              "      fill: #D2E3FC;\n",
              "    }\n",
              "\n",
              "    [theme=dark] .colab-df-convert:hover {\n",
              "      background-color: #434B5C;\n",
              "      box-shadow: 0px 1px 3px 1px rgba(0, 0, 0, 0.15);\n",
              "      filter: drop-shadow(0px 1px 2px rgba(0, 0, 0, 0.3));\n",
              "      fill: #FFFFFF;\n",
              "    }\n",
              "  </style>\n",
              "\n",
              "      <script>\n",
              "        const buttonEl =\n",
              "          document.querySelector('#df-3173fd03-d4ef-4496-aec1-6064963efd62 button.colab-df-convert');\n",
              "        buttonEl.style.display =\n",
              "          google.colab.kernel.accessAllowed ? 'block' : 'none';\n",
              "\n",
              "        async function convertToInteractive(key) {\n",
              "          const element = document.querySelector('#df-3173fd03-d4ef-4496-aec1-6064963efd62');\n",
              "          const dataTable =\n",
              "            await google.colab.kernel.invokeFunction('convertToInteractive',\n",
              "                                                     [key], {});\n",
              "          if (!dataTable) return;\n",
              "\n",
              "          const docLinkHtml = 'Like what you see? Visit the ' +\n",
              "            '<a target=\"_blank\" href=https://colab.research.google.com/notebooks/data_table.ipynb>data table notebook</a>'\n",
              "            + ' to learn more about interactive tables.';\n",
              "          element.innerHTML = '';\n",
              "          dataTable['output_type'] = 'display_data';\n",
              "          await google.colab.output.renderOutput(dataTable, element);\n",
              "          const docLink = document.createElement('div');\n",
              "          docLink.innerHTML = docLinkHtml;\n",
              "          element.appendChild(docLink);\n",
              "        }\n",
              "      </script>\n",
              "    </div>\n",
              "  </div>\n",
              "  "
            ]
          },
          "metadata": {},
          "execution_count": 134
        }
      ]
    },
    {
      "cell_type": "code",
      "source": [
        "def X_y_window(windowed_dataframe):\n",
        "  df_as_np = windowed_dataframe.to_numpy()\n",
        "\n",
        "  dates = df_as_np[:, 0]\n",
        "\n",
        "  middle_matrix = df_as_np[:, 1:-1]\n",
        "  X = middle_matrix.reshape((len(dates), middle_matrix.shape[1], 1))\n",
        "\n",
        "  Y = df_as_np[:, -1]\n",
        "\n",
        "  return dates, X.astype(np.float32), Y.astype(np.float32)\n",
        "\n",
        "dates, X, y = X_y_window(windowed_df)\n",
        "\n",
        "dates.shape, X.shape, y.shape"
      ],
      "metadata": {
        "colab": {
          "base_uri": "https://localhost:8080/"
        },
        "id": "eXcrtiS59TyQ",
        "outputId": "8d66441a-aae6-4cce-9292-82047e7d9bd6"
      },
      "execution_count": 135,
      "outputs": [
        {
          "output_type": "execute_result",
          "data": {
            "text/plain": [
              "((249,), (249, 3, 1), (249,))"
            ]
          },
          "metadata": {},
          "execution_count": 135
        }
      ]
    },
    {
      "cell_type": "code",
      "source": [
        "q_80 = int(len(dates) * .8)\n",
        "q_90 = int(len(dates) * .9)\n",
        "\n",
        "dates_train, X_train, y_train = dates[:q_80], X[:q_80], y[:q_80]\n",
        "\n",
        "dates_val, X_val, y_val = dates[q_80:q_90], X[q_80:q_90], y[q_80:q_90]\n",
        "dates_test, X_test, y_test = dates[q_90:], X[q_90:], y[q_90:]\n",
        "\n",
        "plt.plot(dates_train, y_train)\n",
        "plt.plot(dates_val, y_val)\n",
        "plt.plot(dates_test, y_test)\n",
        "\n",
        "plt.legend(['Train', 'Validation', 'Test'])"
      ],
      "metadata": {
        "colab": {
          "base_uri": "https://localhost:8080/",
          "height": 282
        },
        "id": "cOV_BxuTA28q",
        "outputId": "d956ed9c-ada8-46c5-d85b-c467dbea96bb"
      },
      "execution_count": 136,
      "outputs": [
        {
          "output_type": "execute_result",
          "data": {
            "text/plain": [
              "<matplotlib.legend.Legend at 0x7fb710677050>"
            ]
          },
          "metadata": {},
          "execution_count": 136
        },
        {
          "output_type": "display_data",
          "data": {
            "text/plain": [
              "<Figure size 432x288 with 1 Axes>"
            ],
            "image/png": "[encoded data removed]"
          },
          "metadata": {
            "needs_background": "light"
          }
        }
      ]
    },
    {
      "cell_type": "code",
      "source": [
        "from tensorflow.keras.models import Sequential\n",
        "from tensorflow.keras.optimizers import Adam\n",
        "from tensorflow.keras import layers\n",
        "\n",
        "model = Sequential([layers.Input((3, 1)),\n",
        "                    layers.LSTM(64),\n",
        "                    layers.Dense(32, activation='relu'),\n",
        "                    layers.Dense(32, activation='relu'),\n",
        "                    layers.Dense(1)])\n",
        "\n",
        "model.compile(loss='mse', \n",
        "              optimizer=Adam(learning_rate=0.001),\n",
        "              metrics=['mean_absolute_error'])\n",
        "\n",
        "model.fit(X_train, y_train, validation_data=(X_val, y_val), epochs=100)"
      ],
      "metadata": {
        "colab": {
          "base_uri": "https://localhost:8080/"
        },
        "id": "itOLcKOXA33k",
        "outputId": "f50510c6-bcd2-408c-dfeb-0bc9d32b56ef"
      },
      "execution_count": 137,
      "outputs": [
        {
          "output_type": "stream",
          "name": "stdout",
          "text": [
            "Epoch 1/100\n",
            "7/7 [==============================] - 3s 91ms/step - loss: 13005.7031 - mean_absolute_error: 109.4946 - val_loss: 3796.7432 - val_mean_absolute_error: 61.3062\n",
            "Epoch 2/100\n",
            "7/7 [==============================] - 0s 10ms/step - loss: 12916.1416 - mean_absolute_error: 109.0905 - val_loss: 3743.8643 - val_mean_absolute_error: 60.8734\n",
            "Epoch 3/100\n",
            "7/7 [==============================] - 0s 9ms/step - loss: 12807.7529 - mean_absolute_error: 108.5931 - val_loss: 3670.8840 - val_mean_absolute_error: 60.2704\n",
            "Epoch 4/100\n",
            "7/7 [==============================] - 0s 9ms/step - loss: 12667.6318 - mean_absolute_error: 107.9356 - val_loss: 3571.2876 - val_mean_absolute_error: 59.4376\n",
            "Epoch 5/100\n",
            "7/7 [==============================] - 0s 9ms/step - loss: 12471.5312 - mean_absolute_error: 107.0304 - val_loss: 3438.6418 - val_mean_absolute_error: 58.3091\n",
            "Epoch 6/100\n",
            "7/7 [==============================] - 0s 10ms/step - loss: 12209.4082 - mean_absolute_error: 105.7812 - val_loss: 3252.0959 - val_mean_absolute_error: 56.6807\n",
            "Epoch 7/100\n",
            "7/7 [==============================] - 0s 11ms/step - loss: 11876.3076 - mean_absolute_error: 104.1519 - val_loss: 2986.3000 - val_mean_absolute_error: 54.2708\n",
            "Epoch 8/100\n",
            "7/7 [==============================] - 0s 9ms/step - loss: 11428.2998 - mean_absolute_error: 101.9024 - val_loss: 2572.4299 - val_mean_absolute_error: 50.2927\n",
            "Epoch 9/100\n",
            "7/7 [==============================] - 0s 11ms/step - loss: 10720.9854 - mean_absolute_error: 98.1481 - val_loss: 1987.8425 - val_mean_absolute_error: 44.0933\n",
            "Epoch 10/100\n",
            "7/7 [==============================] - 0s 10ms/step - loss: 9516.0742 - mean_absolute_error: 91.6492 - val_loss: 1331.9578 - val_mean_absolute_error: 35.8940\n",
            "Epoch 11/100\n",
            "7/7 [==============================] - 0s 10ms/step - loss: 7948.0356 - mean_absolute_error: 82.5890 - val_loss: 693.3684 - val_mean_absolute_error: 25.4906\n",
            "Epoch 12/100\n",
            "7/7 [==============================] - 0s 13ms/step - loss: 6267.0601 - mean_absolute_error: 71.6286 - val_loss: 206.4674 - val_mean_absolute_error: 12.7519\n",
            "Epoch 13/100\n",
            "7/7 [==============================] - 0s 9ms/step - loss: 4526.9795 - mean_absolute_error: 58.2210 - val_loss: 48.5292 - val_mean_absolute_error: 6.3903\n",
            "Epoch 14/100\n",
            "7/7 [==============================] - 0s 9ms/step - loss: 2950.6895 - mean_absolute_error: 44.8077 - val_loss: 378.0844 - val_mean_absolute_error: 18.2862\n",
            "Epoch 15/100\n",
            "7/7 [==============================] - 0s 9ms/step - loss: 1807.7729 - mean_absolute_error: 34.8292 - val_loss: 1103.4293 - val_mean_absolute_error: 32.6029\n",
            "Epoch 16/100\n",
            "7/7 [==============================] - 0s 9ms/step - loss: 1168.2456 - mean_absolute_error: 31.2071 - val_loss: 1998.7216 - val_mean_absolute_error: 44.2790\n",
            "Epoch 17/100\n",
            "7/7 [==============================] - 0s 9ms/step - loss: 1003.4286 - mean_absolute_error: 29.9820 - val_loss: 2739.6448 - val_mean_absolute_error: 51.9875\n",
            "Epoch 18/100\n",
            "7/7 [==============================] - 0s 9ms/step - loss: 1021.7725 - mean_absolute_error: 29.4143 - val_loss: 2909.6592 - val_mean_absolute_error: 53.6183\n",
            "Epoch 19/100\n",
            "7/7 [==============================] - 0s 9ms/step - loss: 993.3593 - mean_absolute_error: 29.1550 - val_loss: 2404.0906 - val_mean_absolute_error: 48.6799\n",
            "Epoch 20/100\n",
            "7/7 [==============================] - 0s 9ms/step - loss: 939.4044 - mean_absolute_error: 28.9133 - val_loss: 2125.2932 - val_mean_absolute_error: 45.7123\n",
            "Epoch 21/100\n",
            "7/7 [==============================] - 0s 10ms/step - loss: 850.9048 - mean_absolute_error: 27.4602 - val_loss: 2031.9628 - val_mean_absolute_error: 44.7342\n",
            "Epoch 22/100\n",
            "7/7 [==============================] - 0s 9ms/step - loss: 748.5721 - mean_absolute_error: 25.8262 - val_loss: 1143.2355 - val_mean_absolute_error: 33.5125\n",
            "Epoch 23/100\n",
            "7/7 [==============================] - 0s 10ms/step - loss: 563.7131 - mean_absolute_error: 22.2299 - val_loss: 788.4690 - val_mean_absolute_error: 27.7844\n",
            "Epoch 24/100\n",
            "7/7 [==============================] - 0s 10ms/step - loss: 404.4586 - mean_absolute_error: 18.5615 - val_loss: 285.2076 - val_mean_absolute_error: 16.5021\n",
            "Epoch 25/100\n",
            "7/7 [==============================] - 0s 9ms/step - loss: 241.9547 - mean_absolute_error: 13.2501 - val_loss: 31.9291 - val_mean_absolute_error: 5.1625\n",
            "Epoch 26/100\n",
            "7/7 [==============================] - 0s 9ms/step - loss: 121.1535 - mean_absolute_error: 8.3568 - val_loss: 5.0155 - val_mean_absolute_error: 1.8996\n",
            "Epoch 27/100\n",
            "7/7 [==============================] - 0s 9ms/step - loss: 63.0387 - mean_absolute_error: 5.4337 - val_loss: 6.5907 - val_mean_absolute_error: 2.1358\n",
            "Epoch 28/100\n",
            "7/7 [==============================] - 0s 9ms/step - loss: 40.7436 - mean_absolute_error: 4.3485 - val_loss: 4.7690 - val_mean_absolute_error: 1.8895\n",
            "Epoch 29/100\n",
            "7/7 [==============================] - 0s 9ms/step - loss: 31.9280 - mean_absolute_error: 3.7755 - val_loss: 4.8907 - val_mean_absolute_error: 1.9272\n",
            "Epoch 30/100\n",
            "7/7 [==============================] - 0s 9ms/step - loss: 26.8721 - mean_absolute_error: 3.5564 - val_loss: 6.5364 - val_mean_absolute_error: 2.1005\n",
            "Epoch 31/100\n",
            "7/7 [==============================] - 0s 8ms/step - loss: 25.6208 - mean_absolute_error: 3.5230 - val_loss: 12.0799 - val_mean_absolute_error: 2.8287\n",
            "Epoch 32/100\n",
            "7/7 [==============================] - 0s 10ms/step - loss: 23.1347 - mean_absolute_error: 3.2630 - val_loss: 5.7399 - val_mean_absolute_error: 2.0607\n",
            "Epoch 33/100\n",
            "7/7 [==============================] - 0s 9ms/step - loss: 24.5520 - mean_absolute_error: 3.5810 - val_loss: 12.4317 - val_mean_absolute_error: 2.8857\n",
            "Epoch 34/100\n",
            "7/7 [==============================] - 0s 9ms/step - loss: 24.5047 - mean_absolute_error: 3.5064 - val_loss: 10.4361 - val_mean_absolute_error: 2.5629\n",
            "Epoch 35/100\n",
            "7/7 [==============================] - 0s 12ms/step - loss: 21.3190 - mean_absolute_error: 3.3560 - val_loss: 5.7805 - val_mean_absolute_error: 2.0131\n",
            "Epoch 36/100\n",
            "7/7 [==============================] - 0s 9ms/step - loss: 20.2408 - mean_absolute_error: 3.1209 - val_loss: 8.0710 - val_mean_absolute_error: 2.2458\n",
            "Epoch 37/100\n",
            "7/7 [==============================] - 0s 9ms/step - loss: 22.4375 - mean_absolute_error: 3.3924 - val_loss: 7.2972 - val_mean_absolute_error: 2.1465\n",
            "Epoch 38/100\n",
            "7/7 [==============================] - 0s 11ms/step - loss: 20.9713 - mean_absolute_error: 3.2284 - val_loss: 5.6007 - val_mean_absolute_error: 1.9489\n",
            "Epoch 39/100\n",
            "7/7 [==============================] - 0s 9ms/step - loss: 19.6719 - mean_absolute_error: 3.1071 - val_loss: 6.1227 - val_mean_absolute_error: 1.9723\n",
            "Epoch 40/100\n",
            "7/7 [==============================] - 0s 9ms/step - loss: 19.6771 - mean_absolute_error: 3.1510 - val_loss: 4.7125 - val_mean_absolute_error: 1.8938\n",
            "Epoch 41/100\n",
            "7/7 [==============================] - 0s 9ms/step - loss: 19.2642 - mean_absolute_error: 3.0740 - val_loss: 7.0814 - val_mean_absolute_error: 2.0902\n",
            "Epoch 42/100\n",
            "7/7 [==============================] - 0s 9ms/step - loss: 18.6249 - mean_absolute_error: 3.0451 - val_loss: 5.2477 - val_mean_absolute_error: 1.8946\n",
            "Epoch 43/100\n",
            "7/7 [==============================] - 0s 10ms/step - loss: 18.8642 - mean_absolute_error: 3.0672 - val_loss: 4.9406 - val_mean_absolute_error: 1.8849\n",
            "Epoch 44/100\n",
            "7/7 [==============================] - 0s 8ms/step - loss: 19.1139 - mean_absolute_error: 3.0597 - val_loss: 5.1850 - val_mean_absolute_error: 1.8908\n",
            "Epoch 45/100\n",
            "7/7 [==============================] - 0s 8ms/step - loss: 18.7855 - mean_absolute_error: 3.0145 - val_loss: 5.1467 - val_mean_absolute_error: 1.8943\n",
            "Epoch 46/100\n",
            "7/7 [==============================] - 0s 8ms/step - loss: 18.3931 - mean_absolute_error: 3.0258 - val_loss: 4.8686 - val_mean_absolute_error: 1.8940\n",
            "Epoch 47/100\n",
            "7/7 [==============================] - 0s 9ms/step - loss: 18.7606 - mean_absolute_error: 3.0437 - val_loss: 6.4080 - val_mean_absolute_error: 1.9926\n",
            "Epoch 48/100\n",
            "7/7 [==============================] - 0s 9ms/step - loss: 17.8251 - mean_absolute_error: 2.9737 - val_loss: 5.0536 - val_mean_absolute_error: 1.8924\n",
            "Epoch 49/100\n",
            "7/7 [==============================] - 0s 10ms/step - loss: 18.2326 - mean_absolute_error: 3.0030 - val_loss: 5.3000 - val_mean_absolute_error: 1.9005\n",
            "Epoch 50/100\n",
            "7/7 [==============================] - 0s 9ms/step - loss: 18.0465 - mean_absolute_error: 3.0022 - val_loss: 5.5814 - val_mean_absolute_error: 1.9086\n",
            "Epoch 51/100\n",
            "7/7 [==============================] - 0s 8ms/step - loss: 17.9430 - mean_absolute_error: 2.9917 - val_loss: 6.1091 - val_mean_absolute_error: 1.9560\n",
            "Epoch 52/100\n",
            "7/7 [==============================] - 0s 10ms/step - loss: 18.3059 - mean_absolute_error: 3.1362 - val_loss: 4.8007 - val_mean_absolute_error: 1.8952\n",
            "Epoch 53/100\n",
            "7/7 [==============================] - 0s 9ms/step - loss: 21.2736 - mean_absolute_error: 3.5470 - val_loss: 8.1191 - val_mean_absolute_error: 2.2161\n",
            "Epoch 54/100\n",
            "7/7 [==============================] - 0s 8ms/step - loss: 20.3903 - mean_absolute_error: 3.3614 - val_loss: 4.7670 - val_mean_absolute_error: 1.8840\n",
            "Epoch 55/100\n",
            "7/7 [==============================] - 0s 9ms/step - loss: 20.6999 - mean_absolute_error: 3.2723 - val_loss: 5.8486 - val_mean_absolute_error: 1.9239\n",
            "Epoch 56/100\n",
            "7/7 [==============================] - 0s 9ms/step - loss: 17.7985 - mean_absolute_error: 3.0026 - val_loss: 4.8296 - val_mean_absolute_error: 1.8800\n",
            "Epoch 57/100\n",
            "7/7 [==============================] - 0s 9ms/step - loss: 17.7422 - mean_absolute_error: 2.9748 - val_loss: 4.9457 - val_mean_absolute_error: 1.8771\n",
            "Epoch 58/100\n",
            "7/7 [==============================] - 0s 9ms/step - loss: 18.1932 - mean_absolute_error: 2.9976 - val_loss: 5.4695 - val_mean_absolute_error: 1.8974\n",
            "Epoch 59/100\n",
            "7/7 [==============================] - 0s 9ms/step - loss: 17.7412 - mean_absolute_error: 2.9894 - val_loss: 5.0600 - val_mean_absolute_error: 1.8961\n",
            "Epoch 60/100\n",
            "7/7 [==============================] - 0s 9ms/step - loss: 18.0297 - mean_absolute_error: 3.0389 - val_loss: 5.3320 - val_mean_absolute_error: 1.9076\n",
            "Epoch 61/100\n",
            "7/7 [==============================] - 0s 9ms/step - loss: 18.0633 - mean_absolute_error: 3.0332 - val_loss: 8.4791 - val_mean_absolute_error: 2.2517\n",
            "Epoch 62/100\n",
            "7/7 [==============================] - 0s 9ms/step - loss: 19.2176 - mean_absolute_error: 3.2937 - val_loss: 5.2148 - val_mean_absolute_error: 1.8958\n",
            "Epoch 63/100\n",
            "7/7 [==============================] - 0s 9ms/step - loss: 18.9293 - mean_absolute_error: 3.1851 - val_loss: 4.9099 - val_mean_absolute_error: 1.8780\n",
            "Epoch 64/100\n",
            "7/7 [==============================] - 0s 9ms/step - loss: 17.9487 - mean_absolute_error: 2.9721 - val_loss: 6.0263 - val_mean_absolute_error: 1.9391\n",
            "Epoch 65/100\n",
            "7/7 [==============================] - 0s 12ms/step - loss: 18.8123 - mean_absolute_error: 3.0547 - val_loss: 4.9155 - val_mean_absolute_error: 1.8787\n",
            "Epoch 66/100\n",
            "7/7 [==============================] - 0s 10ms/step - loss: 18.0499 - mean_absolute_error: 3.0340 - val_loss: 7.8547 - val_mean_absolute_error: 2.1545\n",
            "Epoch 67/100\n",
            "7/7 [==============================] - 0s 9ms/step - loss: 18.6510 - mean_absolute_error: 3.0926 - val_loss: 4.9071 - val_mean_absolute_error: 1.9335\n",
            "Epoch 68/100\n",
            "7/7 [==============================] - 0s 9ms/step - loss: 19.8325 - mean_absolute_error: 3.3475 - val_loss: 6.6391 - val_mean_absolute_error: 2.0114\n",
            "Epoch 69/100\n",
            "7/7 [==============================] - 0s 9ms/step - loss: 17.8628 - mean_absolute_error: 3.0135 - val_loss: 4.8164 - val_mean_absolute_error: 1.8697\n",
            "Epoch 70/100\n",
            "7/7 [==============================] - 0s 10ms/step - loss: 17.5597 - mean_absolute_error: 2.9648 - val_loss: 6.6071 - val_mean_absolute_error: 2.0059\n",
            "Epoch 71/100\n",
            "7/7 [==============================] - 0s 9ms/step - loss: 18.2475 - mean_absolute_error: 3.1217 - val_loss: 4.8050 - val_mean_absolute_error: 1.8902\n",
            "Epoch 72/100\n",
            "7/7 [==============================] - 0s 9ms/step - loss: 21.0912 - mean_absolute_error: 3.4602 - val_loss: 5.0060 - val_mean_absolute_error: 1.8636\n",
            "Epoch 73/100\n",
            "7/7 [==============================] - 0s 9ms/step - loss: 20.7031 - mean_absolute_error: 3.1991 - val_loss: 5.6637 - val_mean_absolute_error: 1.9041\n",
            "Epoch 74/100\n",
            "7/7 [==============================] - 0s 11ms/step - loss: 18.5405 - mean_absolute_error: 3.1277 - val_loss: 5.0779 - val_mean_absolute_error: 1.8867\n",
            "Epoch 75/100\n",
            "7/7 [==============================] - 0s 9ms/step - loss: 18.6279 - mean_absolute_error: 3.1276 - val_loss: 5.0990 - val_mean_absolute_error: 1.8905\n",
            "Epoch 76/100\n",
            "7/7 [==============================] - 0s 9ms/step - loss: 19.0668 - mean_absolute_error: 3.0891 - val_loss: 5.9775 - val_mean_absolute_error: 1.9353\n",
            "Epoch 77/100\n",
            "7/7 [==============================] - 0s 9ms/step - loss: 17.6832 - mean_absolute_error: 2.9786 - val_loss: 5.0243 - val_mean_absolute_error: 1.8870\n",
            "Epoch 78/100\n",
            "7/7 [==============================] - 0s 10ms/step - loss: 17.7618 - mean_absolute_error: 2.9144 - val_loss: 4.8729 - val_mean_absolute_error: 1.8847\n",
            "Epoch 79/100\n",
            "7/7 [==============================] - 0s 9ms/step - loss: 18.7783 - mean_absolute_error: 3.1126 - val_loss: 5.4403 - val_mean_absolute_error: 1.8919\n",
            "Epoch 80/100\n",
            "7/7 [==============================] - 0s 9ms/step - loss: 18.6779 - mean_absolute_error: 3.0681 - val_loss: 6.7825 - val_mean_absolute_error: 2.0354\n",
            "Epoch 81/100\n",
            "7/7 [==============================] - 0s 9ms/step - loss: 17.9144 - mean_absolute_error: 3.0314 - val_loss: 4.8090 - val_mean_absolute_error: 1.8968\n",
            "Epoch 82/100\n",
            "7/7 [==============================] - 0s 9ms/step - loss: 18.8490 - mean_absolute_error: 3.1270 - val_loss: 15.5912 - val_mean_absolute_error: 3.2916\n",
            "Epoch 83/100\n",
            "7/7 [==============================] - 0s 9ms/step - loss: 20.0437 - mean_absolute_error: 3.2958 - val_loss: 5.1879 - val_mean_absolute_error: 1.9575\n",
            "Epoch 84/100\n",
            "7/7 [==============================] - 0s 11ms/step - loss: 21.5894 - mean_absolute_error: 3.6186 - val_loss: 11.6262 - val_mean_absolute_error: 2.7202\n",
            "Epoch 85/100\n",
            "7/7 [==============================] - 0s 9ms/step - loss: 20.7472 - mean_absolute_error: 3.2081 - val_loss: 7.9057 - val_mean_absolute_error: 2.1968\n",
            "Epoch 86/100\n",
            "7/7 [==============================] - 0s 9ms/step - loss: 19.6909 - mean_absolute_error: 3.2221 - val_loss: 5.0752 - val_mean_absolute_error: 1.9550\n",
            "Epoch 87/100\n",
            "7/7 [==============================] - 0s 9ms/step - loss: 19.1127 - mean_absolute_error: 3.0778 - val_loss: 5.4219 - val_mean_absolute_error: 1.9016\n",
            "Epoch 88/100\n",
            "7/7 [==============================] - 0s 9ms/step - loss: 18.2537 - mean_absolute_error: 3.0447 - val_loss: 5.6688 - val_mean_absolute_error: 1.9140\n",
            "Epoch 89/100\n",
            "7/7 [==============================] - 0s 9ms/step - loss: 18.3229 - mean_absolute_error: 3.0579 - val_loss: 4.8345 - val_mean_absolute_error: 1.8831\n",
            "Epoch 90/100\n",
            "7/7 [==============================] - 0s 9ms/step - loss: 17.8535 - mean_absolute_error: 2.9913 - val_loss: 5.2299 - val_mean_absolute_error: 1.8955\n",
            "Epoch 91/100\n",
            "7/7 [==============================] - 0s 9ms/step - loss: 17.7628 - mean_absolute_error: 3.0072 - val_loss: 5.8096 - val_mean_absolute_error: 1.9172\n",
            "Epoch 92/100\n",
            "7/7 [==============================] - 0s 11ms/step - loss: 18.2681 - mean_absolute_error: 3.0921 - val_loss: 11.3963 - val_mean_absolute_error: 2.6672\n",
            "Epoch 93/100\n",
            "7/7 [==============================] - 0s 10ms/step - loss: 17.7168 - mean_absolute_error: 3.0293 - val_loss: 6.0452 - val_mean_absolute_error: 1.9385\n",
            "Epoch 94/100\n",
            "7/7 [==============================] - 0s 9ms/step - loss: 19.6155 - mean_absolute_error: 3.2555 - val_loss: 5.9801 - val_mean_absolute_error: 1.9332\n",
            "Epoch 95/100\n",
            "7/7 [==============================] - 0s 9ms/step - loss: 18.7469 - mean_absolute_error: 3.1181 - val_loss: 5.4019 - val_mean_absolute_error: 1.8921\n",
            "Epoch 96/100\n",
            "7/7 [==============================] - 0s 9ms/step - loss: 18.1905 - mean_absolute_error: 3.0215 - val_loss: 4.8172 - val_mean_absolute_error: 1.8773\n",
            "Epoch 97/100\n",
            "7/7 [==============================] - 0s 9ms/step - loss: 17.5456 - mean_absolute_error: 2.9504 - val_loss: 6.0992 - val_mean_absolute_error: 1.9435\n",
            "Epoch 98/100\n",
            "7/7 [==============================] - 0s 9ms/step - loss: 17.3241 - mean_absolute_error: 2.9499 - val_loss: 7.6347 - val_mean_absolute_error: 2.1422\n",
            "Epoch 99/100\n",
            "7/7 [==============================] - 0s 9ms/step - loss: 17.1891 - mean_absolute_error: 2.9461 - val_loss: 5.2162 - val_mean_absolute_error: 1.8922\n",
            "Epoch 100/100\n",
            "7/7 [==============================] - 0s 9ms/step - loss: 17.2806 - mean_absolute_error: 2.9244 - val_loss: 7.1107 - val_mean_absolute_error: 2.0602\n"
          ]
        },
        {
          "output_type": "execute_result",
          "data": {
            "text/plain": [
              "<keras.callbacks.History at 0x7fb71055f210>"
            ]
          },
          "metadata": {},
          "execution_count": 137
        }
      ]
    },
    {
      "cell_type": "code",
      "source": [
        "train_predictions = model.predict(X_train).flatten()\n",
        "\n",
        "plt.plot(dates_train, train_predictions)\n",
        "plt.plot(dates_train, y_train)\n",
        "plt.legend(['Training Predictions', 'Training Observations'])"
      ],
      "metadata": {
        "colab": {
          "base_uri": "https://localhost:8080/",
          "height": 282
        },
        "id": "Gs2vxYTZBbkU",
        "outputId": "93a26ccd-1088-4c07-f8ba-7aa9a66cc5ef"
      },
      "execution_count": 138,
      "outputs": [
        {
          "output_type": "execute_result",
          "data": {
            "text/plain": [
              "<matplotlib.legend.Legend at 0x7fb70ddd4910>"
            ]
          },
          "metadata": {},
          "execution_count": 138
        },
        {
          "output_type": "display_data",
          "data": {
            "text/plain": [
              "<Figure size 432x288 with 1 Axes>"
            ],
            "image/png": "[encoded data removed]"
          },
          "metadata": {
            "needs_background": "light"
          }
        }
      ]
    },
    {
      "cell_type": "code",
      "source": [
        "val_predictions = model.predict(X_val).flatten()\n",
        "\n",
        "plt.plot(dates_val, val_predictions)\n",
        "plt.plot(dates_val, y_val)\n",
        "plt.legend(['Validation Predictions', 'Validation Observations'])"
      ],
      "metadata": {
        "colab": {
          "base_uri": "https://localhost:8080/",
          "height": 282
        },
        "id": "U4gavIeVBgQs",
        "outputId": "2f4dd50f-5dd9-4883-a9e9-aa0a3135a852"
      },
      "execution_count": 139,
      "outputs": [
        {
          "output_type": "execute_result",
          "data": {
            "text/plain": [
              "<matplotlib.legend.Legend at 0x7fb70dc2d850>"
            ]
          },
          "metadata": {},
          "execution_count": 139
        },
        {
          "output_type": "display_data",
          "data": {
            "text/plain": [
              "<Figure size 432x288 with 1 Axes>"
            ],
            "image/png": "[encoded data removed]"
          },
          "metadata": {
            "needs_background": "light"
          }
        }
      ]
    },
    {
      "cell_type": "code",
      "source": [
        "test_predictions = model.predict(X_test).flatten()\n",
        "\n",
        "plt.plot(dates_test, test_predictions)\n",
        "plt.plot(dates_test, y_test)\n",
        "plt.legend(['Testing Predictions', 'Testing Observations'])"
      ],
      "metadata": {
        "colab": {
          "base_uri": "https://localhost:8080/",
          "height": 282
        },
        "id": "dby3tLB4Bj6c",
        "outputId": "e560df1b-c772-4b29-a10f-080b8ce13dff"
      },
      "execution_count": 140,
      "outputs": [
        {
          "output_type": "execute_result",
          "data": {
            "text/plain": [
              "<matplotlib.legend.Legend at 0x7fb70db59d50>"
            ]
          },
          "metadata": {},
          "execution_count": 140
        },
        {
          "output_type": "display_data",
          "data": {
            "text/plain": [
              "<Figure size 432x288 with 1 Axes>"
            ],
            "image/png": "[encoded data removed]"
          },
          "metadata": {
            "needs_background": "light"
          }
        }
      ]
    },
    {
      "cell_type": "code",
      "source": [
        "plt.plot(dates_train, train_predictions)\n",
        "plt.plot(dates_train, y_train)\n",
        "plt.plot(dates_val, val_predictions)\n",
        "plt.plot(dates_val, y_val)\n",
        "plt.plot(dates_test, test_predictions)\n",
        "plt.plot(dates_test, y_test)\n",
        "plt.legend(['Training Predictions', \n",
        "            'Training Observations',\n",
        "            'Validation Predictions', \n",
        "            'Validation Observations',\n",
        "            'Testing Predictions', \n",
        "            'Testing Observations'])"
      ],
      "metadata": {
        "colab": {
          "base_uri": "https://localhost:8080/",
          "height": 282
        },
        "id": "KM2gQVvGBmjc",
        "outputId": "45176172-30e7-4b5f-d6ce-30b8346f8b1b"
      },
      "execution_count": 141,
      "outputs": [
        {
          "output_type": "execute_result",
          "data": {
            "text/plain": [
              "<matplotlib.legend.Legend at 0x7fb70db41590>"
            ]
          },
          "metadata": {},
          "execution_count": 141
        },
        {
          "output_type": "display_data",
          "data": {
            "text/plain": [
              "<Figure size 432x288 with 1 Axes>"
            ],
            "image/png": "[encoded data removed]"
          },
          "metadata": {
            "needs_background": "light"
          }
        }
      ]
    },
    {
      "cell_type": "code",
      "source": [
        "test_predictions"
      ],
      "metadata": {
        "colab": {
          "base_uri": "https://localhost:8080/"
        },
        "id": "pbtMHmOxLEps",
        "outputId": "2ceb3737-6fff-4812-d153-2b5edac73db1"
      },
      "execution_count": 142,
      "outputs": [
        {
          "output_type": "execute_result",
          "data": {
            "text/plain": [
              "array([56.74208 , 55.34614 , 55.19676 , 55.50251 , 54.883125, 55.09345 ,\n",
              "       55.194805, 49.324898, 44.723667, 47.927822, 48.578438, 49.42223 ,\n",
              "       48.819374, 58.38206 , 56.277126, 59.191494, 55.62138 , 57.034435,\n",
              "       57.22624 , 59.1522  , 62.80946 , 64.96191 , 65.91    , 67.82158 ,\n",
              "       62.122463], dtype=float32)"
            ]
          },
          "metadata": {},
          "execution_count": 142
        }
      ]
    },
    {
      "cell_type": "code",
      "source": [
        "y_test"
      ],
      "metadata": {
        "colab": {
          "base_uri": "https://localhost:8080/"
        },
        "id": "FxRbWXEkvyhy",
        "outputId": "75c855b1-e7a9-471d-c196-092b0d3ab6cf"
      },
      "execution_count": 143,
      "outputs": [
        {
          "output_type": "execute_result",
          "data": {
            "text/plain": [
              "array([53.9 , 53.6 , 53.95, 53.4 , 53.5 , 53.65, 47.6 , 41.65, 43.95,\n",
              "       45.7 , 46.8 , 46.3 , 55.55, 55.45, 57.85, 54.6 , 55.45, 55.95,\n",
              "       57.9 , 61.75, 64.25, 65.25, 67.1 , 61.45, 62.  ], dtype=float32)"
            ]
          },
          "metadata": {},
          "execution_count": 143
        }
      ]
    },
    {
      "cell_type": "code",
      "source": [
        "print(np.concatenate((test_predictions.reshape(len(test_predictions),1),y_test.reshape(len(y_test),1)),1))"
      ],
      "metadata": {
        "colab": {
          "base_uri": "https://localhost:8080/"
        },
        "id": "ZrW8i8fD5KL3",
        "outputId": "77d32cc0-3848-4c3e-8d67-d45faa897562"
      },
      "execution_count": 144,
      "outputs": [
        {
          "output_type": "stream",
          "name": "stdout",
          "text": [
            "[[56.74208  53.9     ]\n",
            " [55.34614  53.6     ]\n",
            " [55.19676  53.95    ]\n",
            " [55.50251  53.4     ]\n",
            " [54.883125 53.5     ]\n",
            " [55.09345  53.65    ]\n",
            " [55.194805 47.6     ]\n",
            " [49.324898 41.65    ]\n",
            " [44.723667 43.95    ]\n",
            " [47.927822 45.7     ]\n",
            " [48.578438 46.8     ]\n",
            " [49.42223  46.3     ]\n",
            " [48.819374 55.55    ]\n",
            " [58.38206  55.45    ]\n",
            " [56.277126 57.85    ]\n",
            " [59.191494 54.6     ]\n",
            " [55.62138  55.45    ]\n",
            " [57.034435 55.95    ]\n",
            " [57.22624  57.9     ]\n",
            " [59.1522   61.75    ]\n",
            " [62.80946  64.25    ]\n",
            " [64.96191  65.25    ]\n",
            " [65.91     67.1     ]\n",
            " [67.82158  61.45    ]\n",
            " [62.122463 62.      ]]\n"
          ]
        }
      ]
    },
    {
      "cell_type": "code",
      "source": [
        "from sklearn.metrics import mean_absolute_error\n",
        "print(\"Mean Absolute Error = \",mean_absolute_error(y_test,test_predictions))"
      ],
      "metadata": {
        "colab": {
          "base_uri": "https://localhost:8080/"
        },
        "id": "aVHqG1dNv29I",
        "outputId": "18fde2ba-6000-4c1a-d2b2-7329257013a7"
      },
      "execution_count": 145,
      "outputs": [
        {
          "output_type": "stream",
          "name": "stdout",
          "text": [
            "Mean Absolute Error =  2.548121\n"
          ]
        }
      ]
    },
    {
      "cell_type": "code",
      "source": [
        "from sklearn.metrics import mean_squared_error\n",
        "print(\"Mean Squared Error = \",mean_squared_error(y_test,test_predictions))"
      ],
      "metadata": {
        "colab": {
          "base_uri": "https://localhost:8080/"
        },
        "id": "KlEpq0W_4SEr",
        "outputId": "2536af67-7416-4878-dc7f-46c9127ad145"
      },
      "execution_count": 146,
      "outputs": [
        {
          "output_type": "stream",
          "name": "stdout",
          "text": [
            "Mean Squared Error =  11.448167\n"
          ]
        }
      ]
    },
    {
      "cell_type": "code",
      "source": [
        "print(\"Root Mean Squared Error = \",np.sqrt(mean_squared_error(y_test,test_predictions)))"
      ],
      "metadata": {
        "colab": {
          "base_uri": "https://localhost:8080/"
        },
        "id": "LJx-3IRF4oX-",
        "outputId": "d61112be-afb5-4649-8e9c-3a9d8f5e0627"
      },
      "execution_count": 147,
      "outputs": [
        {
          "output_type": "stream",
          "name": "stdout",
          "text": [
            "Root Mean Squared Error =  3.383514\n"
          ]
        }
      ]
    },
    {
      "cell_type": "code",
      "source": [
        "df['Close'].mean()"
      ],
      "metadata": {
        "colab": {
          "base_uri": "https://localhost:8080/"
        },
        "id": "IDDIKH7Kwcm4",
        "outputId": "afc38938-60ee-4ef1-d79b-36d155461107"
      },
      "execution_count": 148,
      "outputs": [
        {
          "output_type": "execute_result",
          "data": {
            "text/plain": [
              "102.01282530855019"
            ]
          },
          "metadata": {},
          "execution_count": 148
        }
      ]
    },
    {
      "cell_type": "markdown",
      "source": [
        "**Error Rate**"
      ],
      "metadata": {
        "id": "2d6AOx_J6wFL"
      }
    },
    {
      "cell_type": "code",
      "source": [
        "(2.548121/102.01282530855019)*100"
      ],
      "metadata": {
        "colab": {
          "base_uri": "https://localhost:8080/"
        },
        "id": "8zQ2egd9wvLg",
        "outputId": "3e56e085-44fc-4136-e682-4b8e60c27a3b"
      },
      "execution_count": 149,
      "outputs": [
        {
          "output_type": "execute_result",
          "data": {
            "text/plain": [
              "2.4978437684603856"
            ]
          },
          "metadata": {},
          "execution_count": 149
        }
      ]
    },
    {
      "cell_type": "code",
      "source": [
        ""
      ],
      "metadata": {
        "id": "ERB9FDLO7HZ9"
      },
      "execution_count": null,
      "outputs": []
    }
  ]
}